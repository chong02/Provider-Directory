{
 "cells": [
  {
   "cell_type": "code",
   "execution_count": null,
   "id": "b446b12e-ac8d-45b5-a00a-edf6f43b1539",
   "metadata": {},
   "outputs": [],
   "source": [
    "# Run this cell!\n",
    "from datascience import *\n",
    "import pandas as pd\n",
    "import numpy as np\n",
    "%matplotlib inline\n",
    "import matplotlib.pyplot as plt\n",
    "import seaborn as sns\n",
    "import geopandas as gpd\n",
    "import folium\n",
    "import requests"
   ]
  },
  {
   "cell_type": "markdown",
   "id": "b7451e64-288f-40e5-83cc-2b9eb22b0a1f",
   "metadata": {},
   "source": [
    "# United Healthcare Test Notebook\n",
    "Tester notebook to pull data from United Healthcare Provider Network API and parse it into a Pandas DataFrame."
   ]
  },
  {
   "cell_type": "code",
   "execution_count": null,
   "id": "3f61c694-4591-4dc5-931f-ee804a503ccb",
   "metadata": {},
   "outputs": [],
   "source": [
    "# Don't actually run this cell!\n",
    "base_url = 'https://public.fhir.flex.optum.com/R4'\n",
    "location_CA = '/Location?_count=100&address-state=CA'\n",
    "full_url = base_url + location_CA\n",
    "request = requests.get(full_url)\n",
    "json_object = request.json()\n",
    "\n",
    "uhc_providers = pd.json_normalize(json_object.get('entry'))\n",
    "print('Initial Request Successful! Hang tight this will take quite some time...')\n",
    "page_number = 1\n",
    "\n",
    "while True:\n",
    "    try:\n",
    "        if page_number % 100 == 0:\n",
    "            print(f'Completed: {page_number}')\n",
    "        next_url = json_object.get('link')[1].get('url')\n",
    "        next_request = requests.get(next_url)\n",
    "        next_json = next_request.json()\n",
    "        uhc_providers = pd.concat([uhc_providers, pd.json_normalize(next_json.get('entry'))])\n",
    "        page_number += 1\n",
    "    except:\n",
    "        print('Done!')\n",
    "        break"
   ]
  }
 ],
 "metadata": {
  "kernelspec": {
   "display_name": "Python 3 (ipykernel)",
   "language": "python",
   "name": "python3"
  },
  "language_info": {
   "codemirror_mode": {
    "name": "ipython",
    "version": 3
   },
   "file_extension": ".py",
   "mimetype": "text/x-python",
   "name": "python",
   "nbconvert_exporter": "python",
   "pygments_lexer": "ipython3",
   "version": "3.9.0"
  }
 },
 "nbformat": 4,
 "nbformat_minor": 5
}
