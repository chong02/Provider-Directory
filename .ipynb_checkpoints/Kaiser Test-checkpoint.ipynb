{
 "cells": [
  {
   "cell_type": "code",
   "execution_count": 1,
   "id": "28e6405b-afbd-4a3b-8d6a-06e70c366dbc",
   "metadata": {},
   "outputs": [],
   "source": [
    "# Run this cell!\n",
    "import requests\n",
    "import re\n",
    "import pandas as pd\n",
    "import numpy as np\n",
    "%matplotlib inline\n",
    "import matplotlib.pyplot as plt\n",
    "import seaborn as sns"
   ]
  },
  {
   "cell_type": "code",
   "execution_count": 50,
   "id": "31a345af-8d04-49df-ba98-dd62c644bec9",
   "metadata": {},
   "outputs": [],
   "source": [
    "base_url = 'https://kpx-service-bus.kp.org/service/hp/mhpo/healthplanproviderv1rc/'\n",
    "location = 'Location?'\n",
    "practitionerRole = 'PractitionerRole?'\n",
    "organization = 'Organization?'\n",
    "search_param = 'location.address-city=Manhattan Beach'\n",
    "full_query = base_url + practitionerRole + search_param"
   ]
  },
  {
   "cell_type": "code",
   "execution_count": 3,
   "id": "be4b3489-4476-4724-a144-cd5c0f901b37",
   "metadata": {},
   "outputs": [
    {
     "data": {
      "text/plain": [
       "<Response [200]>"
      ]
     },
     "metadata": {},
     "output_type": "display_data"
    },
    {
     "name": "stdout",
     "output_type": "stream",
     "text": [
      "Total Entries: 362\n",
      "Entries per Page: 50\n"
     ]
    }
   ],
   "source": [
    "request = requests.get(full_query)\n",
    "display(request)\n",
    "json_object = request.json()\n",
    "total = json_object.get('total')\n",
    "print(f'Total Entries: {total}')\n",
    "print(f'Entries per Page: {len(json_object.get(\"entry\"))}')\n",
    "\n",
    "# Get next url\n",
    "next_dict = json_object.get('link')[1]\n",
    "next_url = next_dict.get('url')"
   ]
  },
  {
   "cell_type": "code",
   "execution_count": 55,
   "id": "e9aef7d7-e03a-4f43-9af9-063514a906c0",
   "metadata": {},
   "outputs": [
    {
     "data": {
      "text/plain": [
       "[{'relation': 'self',\n",
       "  'url': 'https://kpx-service-bus.kp.org/service/hp/mhpo/healthplanproviderv1rc/PractitionerRole?location.address-city=Manhattan%20Beach'}]"
      ]
     },
     "execution_count": 55,
     "metadata": {},
     "output_type": "execute_result"
    }
   ],
   "source": [
    "requests.get(full_query).json().get('link')"
   ]
  },
  {
   "cell_type": "code",
   "execution_count": 49,
   "id": "e48c1f01-c193-4d93-b688-f8711b9b8915",
   "metadata": {},
   "outputs": [
    {
     "name": "stdout",
     "output_type": "stream",
     "text": [
      "Total Entries: 362\n",
      "Entries per Page: 50\n",
      "https://nominatim.openstreetmap.org/search/919%20The%20Alameda%20Rm%201%20Berkeley%20CA%2094707?format=json\n",
      "https://nominatim.openstreetmap.org/search/3021%20Telegraph%20Ave%20Ste%20A%20Berkeley%20CA%2094705?format=json\n",
      "https://nominatim.openstreetmap.org/search/1428%20Bonita%20Ave%20Ste%20B%20Berkeley%20CA%2094709?format=json\n",
      "https://nominatim.openstreetmap.org/search/4701%20Stoddard%20Rd%20Modesto%20CA%2095356?format=json\n",
      "https://nominatim.openstreetmap.org/search/3120%20Telegraph%20Ave%20Ste%2011B%20Berkeley%20CA%2094705?format=json\n"
     ]
    },
    {
     "ename": "TypeError",
     "evalue": "'NoneType' object is not iterable",
     "output_type": "error",
     "traceback": [
      "\u001b[0;31m---------------------------------------------------------------------------\u001b[0m",
      "\u001b[0;31mTypeError\u001b[0m                                 Traceback (most recent call last)",
      "Cell \u001b[0;32mIn[49], line 35\u001b[0m\n\u001b[1;32m     33\u001b[0m next_json_object \u001b[38;5;241m=\u001b[39m requests\u001b[38;5;241m.\u001b[39mget(next_url)\u001b[38;5;241m.\u001b[39mjson()\n\u001b[1;32m     34\u001b[0m provider_list \u001b[38;5;241m=\u001b[39m next_json_object\u001b[38;5;241m.\u001b[39mget(\u001b[38;5;124m'\u001b[39m\u001b[38;5;124mentry\u001b[39m\u001b[38;5;124m'\u001b[39m)\n\u001b[0;32m---> 35\u001b[0m healthcareService_refs \u001b[38;5;241m=\u001b[39m [provider\u001b[38;5;241m.\u001b[39mget(\u001b[38;5;124m'\u001b[39m\u001b[38;5;124mresource\u001b[39m\u001b[38;5;124m'\u001b[39m)\u001b[38;5;241m.\u001b[39mget(\u001b[38;5;124m'\u001b[39m\u001b[38;5;124mhealthcareService\u001b[39m\u001b[38;5;124m'\u001b[39m)[\u001b[38;5;241m0\u001b[39m]\u001b[38;5;241m.\u001b[39mget(\u001b[38;5;124m'\u001b[39m\u001b[38;5;124mreference\u001b[39m\u001b[38;5;124m'\u001b[39m) \u001b[38;5;28;01mfor\u001b[39;00m provider \u001b[38;5;129;01min\u001b[39;00m provider_list]\n\u001b[1;32m     36\u001b[0m healthcareServiceUrls \u001b[38;5;241m=\u001b[39m [base_url \u001b[38;5;241m+\u001b[39m ref \u001b[38;5;28;01mfor\u001b[39;00m ref \u001b[38;5;129;01min\u001b[39;00m healthcareService_refs]\n\u001b[1;32m     37\u001b[0m location_refs \u001b[38;5;241m=\u001b[39m [provider\u001b[38;5;241m.\u001b[39mget(\u001b[38;5;124m'\u001b[39m\u001b[38;5;124mresource\u001b[39m\u001b[38;5;124m'\u001b[39m)\u001b[38;5;241m.\u001b[39mget(\u001b[38;5;124m'\u001b[39m\u001b[38;5;124mlocation\u001b[39m\u001b[38;5;124m'\u001b[39m)[\u001b[38;5;241m0\u001b[39m]\u001b[38;5;241m.\u001b[39mget(\u001b[38;5;124m'\u001b[39m\u001b[38;5;124mreference\u001b[39m\u001b[38;5;124m'\u001b[39m) \u001b[38;5;28;01mfor\u001b[39;00m provider \u001b[38;5;129;01min\u001b[39;00m provider_list]\n",
      "\u001b[0;31mTypeError\u001b[0m: 'NoneType' object is not iterable"
     ]
    }
   ],
   "source": [
    "base_url = 'https://kpx-service-bus.kp.org/service/hp/mhpo/healthplanproviderv1rc/'\n",
    "practitionerRole = 'PractitionerRole?'\n",
    "search_param = 'location.address-city=Berkeley'\n",
    "full_query = base_url + practitionerRole + search_param\n",
    "request = requests.get(full_query)\n",
    "json_object = request.json()\n",
    "total = json_object.get('total')\n",
    "entries_per_page = len(json_object.get('entry'))\n",
    "print(f'Total Entries: {total}')\n",
    "print(f'Entries per Page: {entries_per_page}')\n",
    "\n",
    "provider_list = json_object.get('entry')\n",
    "healthcareService_refs = [provider.get('resource').get('healthcareService')[0].get('reference') for provider in provider_list]\n",
    "healthcareServiceUrls = [base_url + ref for ref in healthcareService_refs]\n",
    "location_refs = [provider.get('resource').get('location')[0].get('reference') for provider in provider_list]\n",
    "location_urls = [base_url + ref for ref in location_refs]\n",
    "\n",
    "specialties = get_specialties(healthcareServiceUrls)\n",
    "names, addresses = get_names_and_addresses(location_urls)\n",
    "coordinates = get_coordinates(addresses)\n",
    "\n",
    "kaiser = [[names[i]] + [addresses[i]] + coordinates[i] + specialties[i]\n",
    "          if addresses [i] is not None\n",
    "          else [None, None, None, None, None, None]\n",
    "          for i in range(len(coordinates))]\n",
    "\n",
    "kaiser_providers = pd.DataFrame(data=kaiser, columns=['Name', 'Address', 'Latitude', 'Longitude',\n",
    "                                                      'Provider Taxonomy Code', 'Specialty'])\n",
    "\n",
    "next_dict = json_object.get('link')[1]\n",
    "next_url = next_dict.get('url')\n",
    "while True:\n",
    "    next_json_object = requests.get(next_url).json()\n",
    "    provider_list = next_json_object.get('entry')\n",
    "    try:\n",
    "        healthcareService_refs = [provider.get('resource').get('healthcareService')[0].get('reference') for provider in provider_list]\n",
    "    except \n",
    "    healthcareServiceUrls = [base_url + ref for ref in healthcareService_refs]\n",
    "    location_refs = [provider.get('resource').get('location')[0].get('reference') for provider in provider_list]\n",
    "    location_urls = [base_url + ref for ref in location_refs]\n",
    "\n",
    "    specialties = get_specialties(healthcareServiceUrls)\n",
    "    names, addresses = get_names_and_addresses(location_urls)\n",
    "    coordinates = get_coordinates(addresses)\n",
    "\n",
    "    kaiser = [[names[i]] + [addresses[i]] + coordinates[i] + specialties[i]\n",
    "              if addresses [i] is not None\n",
    "              else [None, None, None, None, None, None]\n",
    "              for i in range(len(coordinates))]\n",
    "    kaiser_df = pd.DataFrame(data=kaiser, columns=['Name', 'Address', 'Latitude', 'Longitude',\n",
    "                                                      'Provider Taxonomy Code', 'Specialty'])\n",
    "    \n",
    "    kaiser_providers = pd.concat([kaiser_providers, kaiser_df])\n",
    "    \n",
    "    try:\n",
    "        next_dict = next_json_object.get('link')[1]\n",
    "        next_url = next_dict.get('url')\n",
    "    except TypeError:\n",
    "        break\n",
    "    \n",
    "kaiser_providers    "
   ]
  },
  {
   "cell_type": "code",
   "execution_count": 44,
   "id": "957a6dbd-bb7e-4fbe-b540-699bf99e39f1",
   "metadata": {},
   "outputs": [
    {
     "data": {
      "text/plain": [
       "dict_keys(['resourceType', 'id', 'meta', 'type', 'total', 'link', 'entry'])"
      ]
     },
     "execution_count": 44,
     "metadata": {},
     "output_type": "execute_result"
    }
   ],
   "source": [
    "json_object.keys()"
   ]
  },
  {
   "cell_type": "code",
   "execution_count": 4,
   "id": "c512a98c-a799-4d94-8f4b-58ab63d7d0f8",
   "metadata": {},
   "outputs": [],
   "source": [
    "test_provider_list = json_object.get('entry')"
   ]
  },
  {
   "cell_type": "code",
   "execution_count": 5,
   "id": "81adf794-af06-4863-9d2a-6dd19ad40a90",
   "metadata": {},
   "outputs": [],
   "source": [
    "test_provider_refs = [provider.get('resource').get('healthcareService')[0].get('reference') for provider in test_provider_list]"
   ]
  },
  {
   "cell_type": "code",
   "execution_count": 6,
   "id": "3b3879d0-41d3-43b7-b422-6c2b829704ec",
   "metadata": {},
   "outputs": [],
   "source": [
    "urls = [base_url + ref for ref in test_provider_refs]"
   ]
  },
  {
   "cell_type": "code",
   "execution_count": null,
   "id": "448bdaa5-75d9-4a49-a8e6-df3eeeb9a4d4",
   "metadata": {},
   "outputs": [],
   "source": [
    "#specialties = [[requests.get(urls[i]).json().get('specialty')[0].get('coding')[0].get('code'),\n",
    "#                requests.get(urls[i]).json().get('specialty')[0].get('coding')[0].get('display')\n",
    "#               ] if i != 34 else (None, None) for i in range(len(urls))]\n",
    "def get_names(provider_list):\n",
    "    '''\n",
    "    Function that extracts the name of each provider from provider_list\n",
    "    -----\n",
    "    Input:\n",
    "    \n",
    "    provider_list (list) - List of json objects each corresponding to a single provider\n",
    "    -----\n",
    "    Output:\n",
    "    \n",
    "    names (list) - List of strings containing the names of each provider in\n",
    "                   provider_list\n",
    "    '''\n",
    "    names = []\n",
    "    for provider in provider_list:\n",
    "        name = provider.get('name')\n",
    "        names.append(name)\n",
    "    return names\n",
    "\n",
    "def get_specialties(healthcareServiceUrls):\n",
    "    '''\n",
    "    Function that takes a HealthcareService API call and extracts the provider taxonomy code\n",
    "    and the corresponding plain English specialty\n",
    "    -----\n",
    "    Input:\n",
    "    \n",
    "    healthcareServiceUrls (list) - List of strings corresponding to HealthcareService resource API call\n",
    "    -----\n",
    "    Output:\n",
    "    \n",
    "    specialties (list) - 2D list of provider taxonomy codes and corresponding plain English\n",
    "                         specialty\n",
    "                         \n",
    "            [[taxonomy_code, specialty],\n",
    "             [taxonomy_code, specialty],\n",
    "                   ...          ...\n",
    "             [taxonomy_code, specialty]]\n",
    "    '''\n",
    "    specialties = []\n",
    "    for url in healthcareServiceUrls:\n",
    "        request = requests.get(url)\n",
    "        json_object = request.json()\n",
    "        specialty_object = json_object.get('specialty')\n",
    "        try:\n",
    "            specialty_dict = specialty_object[0].get('coding')[0]\n",
    "            code = specialty_dict.get('code')\n",
    "            display_name = specialty_dict.get('display')\n",
    "            specialty = [code, display_name]\n",
    "        except TypeError:\n",
    "            specialty = [None, None]\n",
    "        specialties.append(specialty)\n",
    "    return specialties\n",
    "\n",
    "def get_names_and_addresses(location_urls):\n",
    "    '''\n",
    "    Function that extracts the street addresses from Location API calls\n",
    "    -----\n",
    "    Input:\n",
    "    \n",
    "    location_urls (list) - List of strings corresponding to Location resource API calls\n",
    "    -----\n",
    "    Outputs:\n",
    "    \n",
    "    names (list) - List of provider names as strings\n",
    "    \n",
    "    addresses (list) - List of street addresses as strings\n",
    "    '''\n",
    "    names = []\n",
    "    addresses = []\n",
    "    for url in location_urls:\n",
    "        request = requests.get(url)\n",
    "        json_object = request.json()\n",
    "        name = json_object.get('name')\n",
    "        address_object = json_object.get('address')\n",
    "        street_address = address_object.get('text')\n",
    "        names.append(name)\n",
    "        addresses.append(street_address)\n",
    "    return names, addresses\n",
    "\n",
    "def clean_address(address):\n",
    "    '''\n",
    "    Helper function that cleans street address to allow for Nominatim \n",
    "    seach engine API call\n",
    "    -----\n",
    "    Input:\n",
    "    \n",
    "    address (string) - Street address (includes whitespaces and suite, \n",
    "                       unit, or floor)\n",
    "    -----\n",
    "    Output:\n",
    "    \n",
    "    cleaned_address (string) - Street address prepared for Nominatim\n",
    "                               search engine API call\n",
    "    '''\n",
    "    unit_pattern = 'Fl\\s[\\w\\d]+\\s|Ste\\s[\\w\\d]+\\s|Unit\\s[\\w\\d]+\\s|Unit\\s[\\w\\d]+\\s|Rm\\s[\\w\\d]+\\s'\n",
    "    try:\n",
    "        clean_w_spaces = re.sub(unit_pattern, '', address)\n",
    "        cleaned_address = re.sub('\\s', '%20', clean_w_spaces)\n",
    "        return cleaned_address\n",
    "    except TypeError:\n",
    "        return None\n",
    "\n",
    "def nominatim_lookup(address):\n",
    "    '''\n",
    "    Helper function that makes a call to Nominatim search engine API\n",
    "    -----\n",
    "    Input:\n",
    "    \n",
    "    address (string) - Street address\n",
    "    -----\n",
    "    Output:\n",
    "    \n",
    "    coordinate (list) - List of strings corresponding to coordinates ([latitude, longitude])\n",
    "    '''\n",
    "    nominatim_search = 'https://nominatim.openstreetmap.org/search/'\n",
    "    set_json_format = '?format=json'\n",
    "    cleaned_address = clean_address(address)\n",
    "    try:\n",
    "        nominatim_call = nominatim_search + cleaned_address + set_json_format\n",
    "        try:\n",
    "            search_object = requests.get(nominatim_call).json()[0]\n",
    "            latitude = search_object.get('lat')\n",
    "            longitude = search_object.get('lon')\n",
    "            coordinate = [latitude, longitude]\n",
    "            return coordinate\n",
    "        except IndexError:\n",
    "            print(nominatim_call)\n",
    "            return [None, None]\n",
    "    except TypeError:\n",
    "        return [None, None]\n",
    "\n",
    "def get_coordinates(addresses):\n",
    "    '''\n",
    "    Function that uses Nominatim search engine API to extract coordinates from\n",
    "    a list of street addresses\n",
    "    -----\n",
    "    Input:\n",
    "    \n",
    "    addresses (list) - List of street addresses as strings\n",
    "    -----\n",
    "    Output:\n",
    "    \n",
    "    coordinates (list) - 2D list of coordinates (latitude, longitude)\n",
    "    \n",
    "            [[latitude, longitude],\n",
    "             [latitude, longitude],\n",
    "                ...        ...\n",
    "             [latitude, longitude]]\n",
    "    '''\n",
    "    coordinates = []\n",
    "    for address in addresses:\n",
    "        coordinate = nominatim_lookup(address)\n",
    "        coordinates.append(coordinate)\n",
    "    return coordinates"
   ]
  },
  {
   "cell_type": "code",
   "execution_count": 10,
   "id": "80b0baac-5e34-4349-8913-52a21c0b1d13",
   "metadata": {},
   "outputs": [],
   "source": [
    "location_refs = [provider.get('resource').get('location')[0].get('reference') for provider in test_provider_list]\n",
    "location_urls = [base_url + ref for ref in location_refs]\n",
    "addresses = [requests.get(location_urls[i]).json().get('address').get('text')\n",
    "             if i != 34 else None for i in range(len(location_urls))]"
   ]
  },
  {
   "cell_type": "code",
   "execution_count": null,
   "id": "d0a3d0d2-68d4-4f05-9214-0522717784ce",
   "metadata": {},
   "outputs": [],
   "source": [
    "coordinates = [[requests.get(re.sub('Fl%20\\d+%20|Ste%20\\d+%20|Unit%20\\w+%20|Unit%20\\d+%20', '', re.sub('\\s', '%20', f'https://nominatim.openstreetmap.org/search/{addresses[i]}?format=json'))).json()[0].get('lat'),\n",
    "                requests.get(re.sub('Fl%20\\d+%20|Ste%20\\d+%20|Unit%20\\w+%20|Unit%20\\d+%20', '', re.sub('\\s', '%20', f'https://nominatim.openstreetmap.org/search/{addresses[i]}?format=json'))).json()[0].get('lon')]\n",
    "               if i != 34 else [None, None] for i in range(len(addresses))]"
   ]
  },
  {
   "cell_type": "code",
   "execution_count": null,
   "id": "bfa67784-3785-42a9-a23c-6f46a20c5e20",
   "metadata": {},
   "outputs": [],
   "source": [
    "(coordinates[0] + specialties[0]).append(addresses[0])"
   ]
  },
  {
   "cell_type": "code",
   "execution_count": null,
   "id": "2e9cad94-5898-4075-bde7-66451a6c6fd7",
   "metadata": {},
   "outputs": [],
   "source": [
    "data = [[addresses[i]] + coordinates[i] + specialties[i] if addresses[i] is not None else [None, None, None, None, None] for i in range(len(coordinates))]"
   ]
  },
  {
   "cell_type": "code",
   "execution_count": null,
   "id": "ba725956-dac1-4961-945c-52a8d7ac9b78",
   "metadata": {},
   "outputs": [],
   "source": [
    "pd.DataFrame(data=data, columns=['Address', 'Latitude', 'Longitude', 'Provider Taxonomy Code', 'Specialty'])"
   ]
  },
  {
   "cell_type": "code",
   "execution_count": 11,
   "id": "3eb6bf3f-7fbf-4c10-bb57-51980d5a487c",
   "metadata": {},
   "outputs": [
    {
     "data": {
      "text/plain": [
       "'2228 6TH St Berkeley CA 94710'"
      ]
     },
     "execution_count": 11,
     "metadata": {},
     "output_type": "execute_result"
    }
   ],
   "source": [
    "addresses[0]"
   ]
  },
  {
   "cell_type": "code",
   "execution_count": 29,
   "id": "ae816b7c-1ebc-4d8d-ad65-af906c38672a",
   "metadata": {},
   "outputs": [
    {
     "data": {
      "text/plain": [
       "'Bay Psychiatric Associates - Berkeley'"
      ]
     },
     "execution_count": 29,
     "metadata": {},
     "output_type": "execute_result"
    }
   ],
   "source": [
    "requests.get(location_urls[13]).json().get('name')"
   ]
  },
  {
   "cell_type": "code",
   "execution_count": null,
   "id": "fdddd2d7-ea59-46ec-82e9-0d40fa0c508c",
   "metadata": {},
   "outputs": [],
   "source": []
  }
 ],
 "metadata": {
  "kernelspec": {
   "display_name": "Python 3 (ipykernel)",
   "language": "python",
   "name": "python3"
  },
  "language_info": {
   "codemirror_mode": {
    "name": "ipython",
    "version": 3
   },
   "file_extension": ".py",
   "mimetype": "text/x-python",
   "name": "python",
   "nbconvert_exporter": "python",
   "pygments_lexer": "ipython3",
   "version": "3.11.1"
  }
 },
 "nbformat": 4,
 "nbformat_minor": 5
}
