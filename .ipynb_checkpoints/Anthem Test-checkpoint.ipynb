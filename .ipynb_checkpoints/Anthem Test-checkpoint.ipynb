{
 "cells": [
  {
   "cell_type": "code",
   "execution_count": null,
   "id": "077edca4-b27d-4daa-812a-0d78d6cee3db",
   "metadata": {},
   "outputs": [],
   "source": [
    "# Run this cell!\n",
    "from datascience import *\n",
    "import pandas as pd\n",
    "import numpy as np\n",
    "%matplotlib inline\n",
    "import matplotlib.pyplot as plt\n",
    "import seaborn as sns\n",
    "import geopandas as gpd\n",
    "import folium\n",
    "import requests"
   ]
  },
  {
   "cell_type": "markdown",
   "id": "fa50db4f-64a6-4335-84f4-80c3d5ec5cb5",
   "metadata": {},
   "source": [
    "# Anthem Test Notebook"
   ]
  },
  {
   "cell_type": "code",
   "execution_count": null,
   "id": "0ac39737-2340-4e27-8fca-eaf056b81561",
   "metadata": {},
   "outputs": [],
   "source": [
    "url = 'https://cmsmanapi.anthem.com/fhir/cms_mandate/mcd/Location?address-state=CA'\n",
    "\n",
    "# Pull data from carrier API\n",
    "request = requests.get(url)\n",
    "json_object = request.json()\n",
    "json_object"
   ]
  }
 ],
 "metadata": {
  "kernelspec": {
   "display_name": "Python 3 (ipykernel)",
   "language": "python",
   "name": "python3"
  },
  "language_info": {
   "codemirror_mode": {
    "name": "ipython",
    "version": 3
   },
   "file_extension": ".py",
   "mimetype": "text/x-python",
   "name": "python",
   "nbconvert_exporter": "python",
   "pygments_lexer": "ipython3",
   "version": "3.9.0"
  }
 },
 "nbformat": 4,
 "nbformat_minor": 5
}
